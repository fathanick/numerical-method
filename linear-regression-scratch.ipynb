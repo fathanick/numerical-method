{
 "cells": [
  {
   "cell_type": "code",
   "execution_count": 50,
   "metadata": {},
   "outputs": [],
   "source": [
    "import numpy as np\n",
    "import matplotlib.pyplot as plt\n",
    "\n",
    "def estimate_coeff(x,y):\n",
    "    # size of the dataset OR number of observations/points \n",
    "    n = np.size(x) \n",
    "  \n",
    "    # mean of x and y\n",
    "    # Since we are using numpy just calling mean on numpy is sufficient \n",
    "    mean_x, mean_y = np.mean(x), np.mean(y)\n",
    "    \n",
    "    #compute gradient/slope\n",
    "    b = ((n*np.sum(x*y))-(np.sum(x)*np.sum(y)))/((n*np.sum(x*x))-(np.sum(x)**2))\n",
    "    #compute intercept\n",
    "    a = (mean_y)-(b*mean_x)\n",
    "    return(b, a)\n",
    "\n",
    "\n",
    "\n",
    "def plotting(x, y, e): \n",
    "    # plotting the points as per dataset on a graph\n",
    "    plt.scatter(x, y, color = \"m\",marker = \"o\", s = 30) \n",
    "\n",
    "    # predicted response vector \n",
    "    y_pred = e[1] + e[0]*x \n",
    "  \n",
    "    # plotting the regression line\n",
    "    plt.plot(x, y_pred, color = \"g\")\n",
    "  \n",
    "    # putting labels for x and y axis\n",
    "    plt.xlabel('Size') \n",
    "    plt.ylabel('Cost') \n",
    "  \n",
    "    # function to show plotted graph\n",
    "    plt.show() \n",
    "         \n",
    "def main(): \n",
    "    # Datasets which we create  \n",
    "    x = np.array([-2,1,3])\n",
    "    y = np.array([-1,1,2])\n",
    "    \n",
    "    # estimating coefficients \n",
    "    e = estimate_coeff(x, y) \n",
    "    print(\"Estimated coefficients:\\n slope = {} \\n intercept = {}\".format(e[0], e[1])) \n",
    "  \n",
    "    # plotting regression line \n",
    "    plotting(x, y, e)"
   ]
  },
  {
   "cell_type": "code",
   "execution_count": 51,
   "metadata": {},
   "outputs": [
    {
     "name": "stdout",
     "output_type": "stream",
     "text": [
      "Estimated coefficients:\n",
      " slope = 0.6052631578947368 \n",
      " intercept = 0.2631578947368421\n"
     ]
    },
    {
     "data": {
      "image/png": "[encoded data removed]",
      "text/plain": [
       "<Figure size 432x288 with 1 Axes>"
      ]
     },
     "metadata": {},
     "output_type": "display_data"
    }
   ],
   "source": [
    "if __name__ == \"__main__\": \n",
    "    main()"
   ]
  }
 ],
 "metadata": {
  "kernelspec": {
   "display_name": "Python 3",
   "language": "python",
   "name": "python3"
  },
  "language_info": {
   "codemirror_mode": {
    "name": "ipython",
    "version": 3
   },
   "file_extension": ".py",
   "mimetype": "text/x-python",
   "name": "python",
   "nbconvert_exporter": "python",
   "pygments_lexer": "ipython3",
   "version": "3.6.3"
  }
 },
 "nbformat": 4,
 "nbformat_minor": 2
}
