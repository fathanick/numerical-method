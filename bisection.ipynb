{
 "cells": [
  {
   "cell_type": "code",
   "execution_count": 1,
   "metadata": {
    "collapsed": true
   },
   "outputs": [],
   "source": [
    "def f(x):\n",
    "    return x**2-5"
   ]
  },
  {
   "cell_type": "code",
   "execution_count": 2,
   "metadata": {},
   "outputs": [
    {
     "name": "stdout",
     "output_type": "stream",
     "text": [
      "-1\n"
     ]
    }
   ],
   "source": [
    "print(f(2))"
   ]
  },
  {
   "cell_type": "code",
   "execution_count": 44,
   "metadata": {
    "collapsed": true
   },
   "outputs": [],
   "source": [
    "def bisection(f,a,b,tol):\n",
    "    if f(a)*f(b)>=0:\n",
    "        print(\"No result!\")\n",
    "    else:\n",
    "        while (b-a)>tol:\n",
    "            m = (a+b)/2\n",
    "            mul = f(a)*f(m)\n",
    "            if mul==0:\n",
    "                print(\"The root is: %d\",m)\n",
    "            elif mul<0:\n",
    "                b=m\n",
    "            else:\n",
    "                a=m\n",
    "            print(\"Initial range: \",[a,b])\n",
    "            print(f(m))\n",
    "    return m "
   ]
  },
  {
   "cell_type": "code",
   "execution_count": 36,
   "metadata": {},
   "outputs": [
    {
     "name": "stdout",
     "output_type": "stream",
     "text": [
      "Initial range:  [2.0, 4]\n",
      "-1.0\n",
      "Initial range:  [2.0, 3.0]\n",
      "4.0\n",
      "Initial range:  [2.0, 2.5]\n",
      "1.25\n",
      "Initial range:  [2.0, 2.25]\n",
      "0.0625\n",
      "Initial range:  [2.125, 2.25]\n",
      "-0.484375\n",
      "Initial range:  [2.1875, 2.25]\n",
      "-0.21484375\n",
      "Initial range:  [2.21875, 2.25]\n",
      "-0.0771484375\n",
      "Initial range:  [2.234375, 2.25]\n",
      "-0.007568359375\n",
      "Initial range:  [2.234375, 2.2421875]\n",
      "0.02740478515625\n",
      "Initial range:  [2.234375, 2.23828125]\n",
      "0.0099029541015625\n",
      "Initial range:  [2.234375, 2.236328125]\n",
      "0.001163482666015625\n",
      "Initial range:  [2.2353515625, 2.236328125]\n",
      "-0.0032033920288085938\n"
     ]
    },
    {
     "data": {
      "text/plain": [
       "2.2353515625"
      ]
     },
     "execution_count": 36,
     "metadata": {},
     "output_type": "execute_result"
    }
   ],
   "source": [
    "bisection(f,0,4,0.001)"
   ]
  },
  {
   "cell_type": "code",
   "execution_count": 37,
   "metadata": {},
   "outputs": [
    {
     "data": {
      "text/plain": [
       "-0.0032033920288085938"
      ]
     },
     "execution_count": 37,
     "metadata": {},
     "output_type": "execute_result"
    }
   ],
   "source": [
    "f(2.2353515625)"
   ]
  },
  {
   "cell_type": "code",
   "execution_count": 38,
   "metadata": {
    "collapsed": true
   },
   "outputs": [],
   "source": [
    "def f1(x):\n",
    "    return x**2-3"
   ]
  },
  {
   "cell_type": "code",
   "execution_count": 6,
   "metadata": {},
   "outputs": [
    {
     "name": "stdout",
     "output_type": "stream",
     "text": [
      "Initial range:  [1.5, 2]\n",
      "Initial range:  [1.5, 1.75]\n",
      "Initial range:  [1.625, 1.75]\n",
      "Initial range:  [1.6875, 1.75]\n",
      "Initial range:  [1.71875, 1.75]\n",
      "Initial range:  [1.71875, 1.734375]\n"
     ]
    },
    {
     "data": {
      "text/plain": [
       "1.734375"
      ]
     },
     "execution_count": 6,
     "metadata": {},
     "output_type": "execute_result"
    }
   ],
   "source": [
    "bisection(f1,1,2,0.01)"
   ]
  },
  {
   "cell_type": "code",
   "execution_count": 39,
   "metadata": {},
   "outputs": [
    {
     "data": {
      "text/plain": [
       "0.008056640625"
      ]
     },
     "execution_count": 39,
     "metadata": {},
     "output_type": "execute_result"
    }
   ],
   "source": [
    "f1(1.734375)"
   ]
  },
  {
   "cell_type": "code",
   "execution_count": 40,
   "metadata": {
    "collapsed": true
   },
   "outputs": [],
   "source": [
    "def f2(x):\n",
    "    return x**3-20"
   ]
  },
  {
   "cell_type": "code",
   "execution_count": 41,
   "metadata": {},
   "outputs": [
    {
     "data": {
      "text/plain": [
       "-19"
      ]
     },
     "execution_count": 41,
     "metadata": {},
     "output_type": "execute_result"
    }
   ],
   "source": [
    "f2(1)"
   ]
  },
  {
   "cell_type": "code",
   "execution_count": 45,
   "metadata": {},
   "outputs": [
    {
     "name": "stdout",
     "output_type": "stream",
     "text": [
      "Initial range:  [2.5, 4]\n",
      "-4.375\n",
      "Initial range:  [2.5, 3.25]\n",
      "14.328125\n",
      "Initial range:  [2.5, 2.875]\n",
      "3.763671875\n",
      "Initial range:  [2.6875, 2.875]\n",
      "-0.589111328125\n",
      "Initial range:  [2.6875, 2.78125]\n",
      "1.513946533203125\n",
      "Initial range:  [2.6875, 2.734375]\n",
      "0.4443931579589844\n",
      "Initial range:  [2.7109375, 2.734375]\n",
      "-0.07682657241821289\n",
      "Initial range:  [2.7109375, 2.72265625]\n",
      "0.18266159296035767\n",
      "Initial range:  [2.7109375, 2.716796875]\n",
      "0.05263768881559372\n",
      "Initial range:  [2.7138671875, 2.716796875]\n",
      "-0.012164321728050709\n",
      "Initial range:  [2.7138671875, 2.71533203125]\n",
      "0.020219204132445157\n",
      "Initial range:  [2.7138671875, 2.714599609375]\n",
      "0.00402307252807077\n"
     ]
    },
    {
     "data": {
      "text/plain": [
       "2.714599609375"
      ]
     },
     "execution_count": 45,
     "metadata": {},
     "output_type": "execute_result"
    }
   ],
   "source": [
    "bisection(f2,1,4,0.001)"
   ]
  },
  {
   "cell_type": "code",
   "execution_count": 42,
   "metadata": {
    "collapsed": true
   },
   "outputs": [],
   "source": [
    "def f3(x):\n",
    "    return x**3+x**2-3*x-3"
   ]
  },
  {
   "cell_type": "code",
   "execution_count": 43,
   "metadata": {},
   "outputs": [
    {
     "name": "stdout",
     "output_type": "stream",
     "text": [
      "Initial range:  [1.5, 2]\n",
      "-1.875\n",
      "Initial range:  [1.5, 1.75]\n",
      "0.171875\n",
      "Initial range:  [1.625, 1.75]\n",
      "-0.943359375\n",
      "Initial range:  [1.6875, 1.75]\n",
      "-0.409423828125\n",
      "Initial range:  [1.71875, 1.75]\n",
      "-0.124786376953125\n",
      "Initial range:  [1.71875, 1.734375]\n",
      "0.022029876708984375\n",
      "Initial range:  [1.7265625, 1.734375]\n",
      "-0.051755428314208984\n",
      "Initial range:  [1.73046875, 1.734375]\n",
      "-0.014957249164581299\n",
      "Initial range:  [1.73046875, 1.732421875]\n",
      "0.0035126730799674988\n",
      "Initial range:  [1.7314453125, 1.732421875]\n",
      "-0.005728195421397686\n",
      "Initial range:  [1.73193359375, 1.732421875]\n",
      "-0.0011092383647337556\n",
      "Initial range:  [1.73193359375, 1.732177734375]\n",
      "0.0012013480154564604\n",
      "Initial range:  [1.73193359375, 1.7320556640625]\n",
      "4.596249527821783e-05\n",
      "Initial range:  [1.73199462890625, 1.7320556640625]\n",
      "-0.0005316610165664315\n"
     ]
    },
    {
     "data": {
      "text/plain": [
       "1.73199462890625"
      ]
     },
     "execution_count": 43,
     "metadata": {},
     "output_type": "execute_result"
    }
   ],
   "source": [
    "bisection(f3,1,2,0.0001)"
   ]
  }
 ],
 "metadata": {
  "kernelspec": {
   "display_name": "Python 3",
   "language": "python",
   "name": "python3"
  },
  "language_info": {
   "codemirror_mode": {
    "name": "ipython",
    "version": 3
   },
   "file_extension": ".py",
   "mimetype": "text/x-python",
   "name": "python",
   "nbconvert_exporter": "python",
   "pygments_lexer": "ipython3",
   "version": "3.6.3"
  }
 },
 "nbformat": 4,
 "nbformat_minor": 2
}
