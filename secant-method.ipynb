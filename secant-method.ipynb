{
 "cells": [
  {
   "cell_type": "code",
   "execution_count": 9,
   "metadata": {},
   "outputs": [],
   "source": [
    "def f(x):\n",
    "    return x**2-5\n",
    "\n",
    "def secant_method(x0,x1,f,eps):\n",
    "    i = 0\n",
    "    while True:\n",
    "        x = x1-(f(x1)*(x1-x0)/(f(x1)-f(x0)))\n",
    "        x0 = x1\n",
    "        x1 = x\n",
    "        i += 1\n",
    "        print(\"Iteration\",i)\n",
    "        print(\"x:\",x1)\n",
    "        print(\"f(x)\",f(x1))\n",
    "        if abs(x1-x0)<= eps:\n",
    "            break\n",
    "    #return x"
   ]
  },
  {
   "cell_type": "code",
   "execution_count": 10,
   "metadata": {},
   "outputs": [
    {
     "name": "stdout",
     "output_type": "stream",
     "text": [
      "Iteration 1\n",
      "x: 2.2\n",
      "f(x) -0.15999999999999925\n",
      "Iteration 2\n",
      "x: 2.230769230769231\n",
      "f(x) -0.02366863905325456\n",
      "Iteration 3\n",
      "x: 2.236111111111111\n",
      "f(x) 0.00019290123456805475\n",
      "Iteration 4\n",
      "x: 2.236067926333413\n",
      "f(x) -2.28822990777644e-07\n"
     ]
    }
   ],
   "source": [
    "secant_method(2,3,f,0.0001)"
   ]
  }
 ],
 "metadata": {
  "kernelspec": {
   "display_name": "Python 3",
   "language": "python",
   "name": "python3"
  },
  "language_info": {
   "codemirror_mode": {
    "name": "ipython",
    "version": 3
   },
   "file_extension": ".py",
   "mimetype": "text/x-python",
   "name": "python",
   "nbconvert_exporter": "python",
   "pygments_lexer": "ipython3",
   "version": "3.6.3"
  }
 },
 "nbformat": 4,
 "nbformat_minor": 2
}
