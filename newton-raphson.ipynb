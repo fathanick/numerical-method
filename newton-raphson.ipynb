{
 "cells": [
  {
   "cell_type": "code",
   "execution_count": 2,
   "metadata": {
    "collapsed": true
   },
   "outputs": [],
   "source": [
    "import sympy as sym\n",
    "from sympy import *"
   ]
  },
  {
   "cell_type": "code",
   "execution_count": 59,
   "metadata": {},
   "outputs": [],
   "source": [
    "def derivative(f):\n",
    "    def compute(x, dx):\n",
    "        return (f(x+dx) - f(x))/dx\n",
    "    return compute\n",
    "\n",
    "def newton_raphson(f, x, tolerance):\n",
    "    '''f is the function f(x)'''\n",
    "    df = derivative(f)\n",
    "    dx = 0.000001\n",
    "    iteration = 0\n",
    "    while True:\n",
    "        h = f(x)/df(x, dx)\n",
    "        x1 = x - h\n",
    "        t = abs(x1-x)\n",
    "        if t < tolerance:\n",
    "            break\n",
    "        x = x1\n",
    "        iteration += 1\n",
    "        print(\"Iteration:\", iteration)\n",
    "        print(\"x:\",x)\n",
    "        print(\"f(x):\",f(x))\n",
    "    return x\n",
    "\n",
    "def f(x):\n",
    "    return x**2-4\n",
    "\n",
    "def f1(x):\n",
    "    return x**3-20"
   ]
  },
  {
   "cell_type": "code",
   "execution_count": 60,
   "metadata": {},
   "outputs": [
    {
     "name": "stdout",
     "output_type": "stream",
     "text": [
      "Iteration: 1\n",
      "x: 3.333333555553288\n",
      "f(x): 7.111112592577525\n",
      "Iteration: 2\n",
      "x: 2.2666668978842512\n",
      "f(x): 1.1377788259642143\n",
      "Iteration: 3\n",
      "x: 2.0156863555123734\n",
      "f(x): 0.06299148379875419\n",
      "Iteration: 4\n",
      "x: 2.0000610405925\n",
      "f(x): 0.00024416609595423466\n"
     ]
    },
    {
     "data": {
      "text/plain": [
       "2.0000610405925"
      ]
     },
     "execution_count": 60,
     "metadata": {},
     "output_type": "execute_result"
    }
   ],
   "source": [
    "newton_raphson(f, 6, 0.001)"
   ]
  },
  {
   "cell_type": "code",
   "execution_count": 61,
   "metadata": {},
   "outputs": [
    {
     "name": "stdout",
     "output_type": "stream",
     "text": [
      "Iteration: 1\n",
      "x: 2.740740827212915\n",
      "f(x): 0.5875140148987867\n",
      "Iteration: 2\n",
      "x: 2.71466963574077\n",
      "f(x): 0.005571196053445249\n"
     ]
    },
    {
     "data": {
      "text/plain": [
       "2.71466963574077"
      ]
     },
     "execution_count": 61,
     "metadata": {},
     "output_type": "execute_result"
    }
   ],
   "source": [
    "newton_raphson(f1, 3, 0.001)"
   ]
  },
  {
   "cell_type": "code",
   "execution_count": null,
   "metadata": {
    "collapsed": true
   },
   "outputs": [],
   "source": []
  }
 ],
 "metadata": {
  "kernelspec": {
   "display_name": "Python 3",
   "language": "python",
   "name": "python3"
  },
  "language_info": {
   "codemirror_mode": {
    "name": "ipython",
    "version": 3
   },
   "file_extension": ".py",
   "mimetype": "text/x-python",
   "name": "python",
   "nbconvert_exporter": "python",
   "pygments_lexer": "ipython3",
   "version": "3.6.3"
  }
 },
 "nbformat": 4,
 "nbformat_minor": 2
}
