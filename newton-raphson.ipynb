{
 "cells": [
  {
   "cell_type": "code",
   "execution_count": 2,
   "metadata": {
    "collapsed": true
   },
   "outputs": [],
   "source": [
    "import sympy as sym\n",
    "from sympy import *"
   ]
  },
  {
   "cell_type": "code",
   "execution_count": 52,
   "metadata": {},
   "outputs": [],
   "source": [
    "def derivative(f):\n",
    "    def compute(x, dx):\n",
    "        return (f(x+dx) - f(x))/dx\n",
    "    return compute\n",
    "\n",
    "def newton_raphson(f, x, tolerance):\n",
    "    '''f is the function f(x)'''\n",
    "    df = derivative(f)\n",
    "    dx = 0.000001\n",
    "    iteration = 0\n",
    "    while True:\n",
    "        h = f(x)/df(x, dx)\n",
    "        x1 = x - h\n",
    "        iteration += 1\n",
    "        print(\"Iteration:\", iteration)\n",
    "        print(\"x:\",x)\n",
    "        print(\"x1:\",x1)\n",
    "        t = abs(x1-x)\n",
    "        if t < tolerance:\n",
    "            break\n",
    "        x = x1\n",
    "    return x\n",
    "\n",
    "def f(x):\n",
    "    return x**2-4\n",
    "\n",
    "def f1(x):\n",
    "    return x**3-20"
   ]
  },
  {
   "cell_type": "code",
   "execution_count": 51,
   "metadata": {},
   "outputs": [
    {
     "name": "stdout",
     "output_type": "stream",
     "text": [
      "Iteration: 1\n",
      "x: 6\n",
      "x1: 3.333333555553288\n",
      "Iteration: 2\n",
      "x: 3.333333555553288\n",
      "x1: 2.2666668978842512\n",
      "Iteration: 3\n",
      "x: 2.2666668978842512\n",
      "x1: 2.0156863555123734\n",
      "Iteration: 4\n",
      "x: 2.0156863555123734\n",
      "x1: 2.0000610405925\n",
      "Iteration: 5\n",
      "x: 2.0000610405925\n",
      "x1: 2.0000000009467267\n"
     ]
    },
    {
     "data": {
      "text/plain": [
       "2.0000610405925"
      ]
     },
     "execution_count": 51,
     "metadata": {},
     "output_type": "execute_result"
    }
   ],
   "source": [
    "newton_raphson(f, 6, 0.001)"
   ]
  },
  {
   "cell_type": "code",
   "execution_count": 53,
   "metadata": {},
   "outputs": [
    {
     "name": "stdout",
     "output_type": "stream",
     "text": [
      "Iteration: 1\n",
      "x: 3\n",
      "x1: 2.740740827212915\n",
      "Iteration: 2\n",
      "x: 2.740740827212915\n",
      "x1: 2.71466963574077\n",
      "Iteration: 3\n",
      "x: 2.71466963574077\n",
      "x1: 2.7144176400835125\n"
     ]
    },
    {
     "data": {
      "text/plain": [
       "2.71466963574077"
      ]
     },
     "execution_count": 53,
     "metadata": {},
     "output_type": "execute_result"
    }
   ],
   "source": [
    "newton_raphson(f1, 3, 0.001)"
   ]
  },
  {
   "cell_type": "code",
   "execution_count": null,
   "metadata": {
    "collapsed": true
   },
   "outputs": [],
   "source": []
  }
 ],
 "metadata": {
  "kernelspec": {
   "display_name": "Python 3",
   "language": "python",
   "name": "python3"
  },
  "language_info": {
   "codemirror_mode": {
    "name": "ipython",
    "version": 3
   },
   "file_extension": ".py",
   "mimetype": "text/x-python",
   "name": "python",
   "nbconvert_exporter": "python",
   "pygments_lexer": "ipython3",
   "version": "3.6.3"
  }
 },
 "nbformat": 4,
 "nbformat_minor": 2
}
